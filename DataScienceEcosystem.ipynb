{
 "cells": [
  {
   "cell_type": "markdown",
   "id": "8f25abdf-9395-4e55-9851-e67698e44979",
   "metadata": {},
   "source": [
    "# Data Science Tools and Ecosystem\n"
   ]
  },
  {
   "cell_type": "code",
   "execution_count": null,
   "id": "33aa7c7b-0eaa-401b-8235-160de2a4c8c2",
   "metadata": {},
   "outputs": [],
   "source": [
    "# In this notebook, Data Science Tools and Ecosystem are summarized.\n",
    "Programming languages like Python, R, and SQL are essential for data analysis and manipulation.\n",
    "\n",
    "IDEs such as Jupyter Notebooks, RStudio, and Spyder provide interactive environments for coding and visualization.\n",
    "\n",
    "Libraries like NumPy, pandas, Scikit-learn, and ggplot2 offer tools for data manipulation, analysis, and visualization.\n"
   ]
  },
  {
   "cell_type": "code",
   "execution_count": null,
   "id": "9279394c-acaa-4e1b-952b-ff0598f7e800",
   "metadata": {},
   "outputs": [],
   "source": [
    "# Some of the popular languages that Data Scientists use are:\n",
    "1.Some of the popular languages that Data Scientists use are Python, R, and SQL."
   ]
  },
  {
   "cell_type": "code",
   "execution_count": null,
   "id": "50945a57-b703-4599-addb-82a8a52b20f8",
   "metadata": {},
   "outputs": [],
   "source": [
    "# Some of the commonly used libraries used by Data Scientists include:\n",
    "1.ome of the commonly used libraries by Data Scientists include NumPy, pandas, and Scikit-learn."
   ]
  },
  {
   "cell_type": "code",
   "execution_count": null,
   "id": "702c2f9b-eb42-4ebf-9945-feb6b84ac592",
   "metadata": {},
   "outputs": [],
   "source": [
    "# Data Science tools\n",
    "Programming languages like Python, R, and SQL.\n",
    "Libraries such as NumPy, pandas, and Scikit-learn.\n",
    "IDEs like Jupyter Notebooks, RStudio, and Spyder.\n",
    "Visualization tools including Matplotlib, Seaborn, and ggplot2.\n",
    "Data management tools such as SQL databases, Apache Hadoop, and Apache Spark."
   ]
  },
  {
   "cell_type": "code",
   "execution_count": null,
   "id": "dea17194-9c2d-4950-abed-b9d612f3cf49",
   "metadata": {},
   "outputs": [],
   "source": [
    "# Below are a few examples of evaluating arithmetic expressions in Python\n",
    "\n",
    "Addition: 3 + 5 results in 8.\n",
    "Subtraction: 10 - 4 results in 6.\n",
    "Multiplication: 7 * 3 results in 21.\n",
    "Division: 12 / 4 results in 3.0.\n",
    "Exponentiation: 2 ** 3 results in 8."
   ]
  },
  {
   "cell_type": "code",
   "execution_count": null,
   "id": "0b615dd5-579b-4594-a7c1-d152ba4db571",
   "metadata": {},
   "outputs": [],
   "source": [
    "#  This a simple arithmetic expression to mutiply then add integers \n",
    "result = (a * b) + c\n"
   ]
  },
  {
   "cell_type": "code",
   "execution_count": null,
   "id": "cbef3662-8ddf-4487-a45c-329f6a6301bc",
   "metadata": {},
   "outputs": [],
   "source": [
    "# This will convert 200 minutes to hours by diving by 60.\n",
    "\n",
    "hours = 200 / 60"
   ]
  },
  {
   "cell_type": "code",
   "execution_count": null,
   "id": "372e8e14-0dbc-41be-93e0-ffaf5ab14d35",
   "metadata": {},
   "outputs": [],
   "source": [
    "# List popular languages for Data Science.\n",
    "Python\n",
    "R\n",
    "SQL\n",
    "Julia\n",
    "Scala\n",
    "\n",
    "\n"
   ]
  },
  {
   "cell_type": "markdown",
   "id": "678693d5-45e8-472a-968a-c19ad7a3dcbf",
   "metadata": {},
   "source": [
    "# Author : Swapnil Ghait"
   ]
  },
  {
   "cell_type": "code",
   "execution_count": null,
   "id": "bd5b6094-5ec6-4123-a7d7-12304a65842e",
   "metadata": {},
   "outputs": [],
   "source": []
  },
  {
   "cell_type": "code",
   "execution_count": null,
   "id": "8bf724a0-c059-4642-8473-9d5cb45a3653",
   "metadata": {},
   "outputs": [],
   "source": []
  }
 ],
 "metadata": {
  "kernelspec": {
   "display_name": "Python 3 (ipykernel)",
   "language": "python",
   "name": "python3"
  },
  "language_info": {
   "codemirror_mode": {
    "name": "ipython",
    "version": 3
   },
   "file_extension": ".py",
   "mimetype": "text/x-python",
   "name": "python",
   "nbconvert_exporter": "python",
   "pygments_lexer": "ipython3",
   "version": "3.11.5"
  }
 },
 "nbformat": 4,
 "nbformat_minor": 5
}
